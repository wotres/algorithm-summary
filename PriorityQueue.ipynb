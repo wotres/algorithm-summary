{
 "cells": [
  {
   "cell_type": "markdown",
   "metadata": {},
   "source": [
    "# 자료구조 PriorityQueue (우선순위 큐)\n",
    "\n",
    "## 요약\n",
    "- 데이터를 추가한 순서대로 제거하는 Queue (큐) 와는 달리  \n",
    "  추가한 순서는 상관없이 제거될때 가장 작은 값을 우선순위로 제거\n",
    "- 간단히 나오는 순서를 정해준 형태    \n",
    "- 아래와 같이 queue 모듈의 PriorityQueue 클래스는 내부적으로 Heap 구조를 사용하여 복잡도는 O(logn)"
   ]
  },
  {
   "cell_type": "code",
   "execution_count": 1,
   "metadata": {},
   "outputs": [
    {
     "data": {
      "text/plain": [
       "1"
      ]
     },
     "execution_count": 1,
     "metadata": {},
     "output_type": "execute_result"
    }
   ],
   "source": [
    "# queue 에서 Priority Queue 호출\n",
    "from queue import PriorityQueue\n",
    "pq = PriorityQueue()\n",
    "\n",
    "# 숫자를 임의로 집어넣어도 작은 순서대로 호출\n",
    "pq.put(2)\n",
    "pq.put(3)\n",
    "pq.put(1)\n",
    "\n",
    "# 호출시 가장 작은 값이 호출\n",
    "pq.get()\n"
   ]
  },
  {
   "cell_type": "code",
   "execution_count": 2,
   "metadata": {},
   "outputs": [
    {
     "data": {
      "text/plain": [
       "(1, 'a')"
      ]
     },
     "execution_count": 2,
     "metadata": {},
     "output_type": "execute_result"
    }
   ],
   "source": [
    "# 특정 값의 순서를 맞춰주고 싶을 때 튜플형식으로 사용\n",
    "from queue import PriorityQueue\n",
    "pq = PriorityQueue()\n",
    "\n",
    "# 중간에 넣은 a 가 먼저나오게 튜플 (1, a) 형식으로 입력\n",
    "pq.put((2, 'b'))\n",
    "pq.put((1, 'a'))\n",
    "pq.put((3, 'c'))\n",
    "\n",
    "# 가장 작은 값인 (1, a) 호출\n",
    "pq.get()\n"
   ]
  },
  {
   "cell_type": "code",
   "execution_count": null,
   "metadata": {},
   "outputs": [],
   "source": []
  }
 ],
 "metadata": {
  "kernelspec": {
   "display_name": "Python 3",
   "language": "python",
   "name": "python3"
  },
  "language_info": {
   "codemirror_mode": {
    "name": "ipython",
    "version": 3
   },
   "file_extension": ".py",
   "mimetype": "text/x-python",
   "name": "python",
   "nbconvert_exporter": "python",
   "pygments_lexer": "ipython3",
   "version": "3.8.5"
  }
 },
 "nbformat": 4,
 "nbformat_minor": 4
}
